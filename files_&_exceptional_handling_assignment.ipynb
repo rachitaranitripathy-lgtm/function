{
  "nbformat": 4,
  "nbformat_minor": 0,
  "metadata": {
    "colab": {
      "provenance": []
    },
    "kernelspec": {
      "name": "python3",
      "display_name": "Python 3"
    },
    "language_info": {
      "name": "python"
    }
  },
  "cells": [
    {
      "cell_type": "markdown",
      "source": [
        "#**Files & Exceptional Handling Assignment**\n",
        "##**Theory Question**\n"
      ],
      "metadata": {
        "id": "8Q6J-XrrOpMn"
      }
    },
    {
      "cell_type": "markdown",
      "source": [
        "###Q1: What is the difference between interpreted and compiled languages?\n",
        "In compiled languages, the source code is translated into machine code before execution. This creates an executable file that runs directly on the computer. Examples are C and C++. In interpreted languages, the code is translated line by line during execution. No executable file is created. Python is an interpreted language. Compiled languages run faster but interpreted languages are more flexible and easier to debug."
      ],
      "metadata": {
        "id": "oexHnpZOP_yF"
      }
    },
    {
      "cell_type": "markdown",
      "source": [
        "###Q2: What is exception handling in Python?\n",
        "Exception handling is a way to manage errors that occur during program execution. It prevents the program from crashing when errors happen. Python uses try-except blocks to catch and handle exceptions. This allows the program to continue running even when errors occur, making it more robust and user-friendly."
      ],
      "metadata": {
        "id": "E7yFMC1HQjBc"
      }
    },
    {
      "cell_type": "markdown",
      "source": [
        "###Q3: What is the purpose of the finally block in exception handling?\n",
        "The finally block contains code that executes whether an exception occurs or not. It is used for cleanup operations like closing files or releasing resources. The finally block runs after the try and except blocks complete. It ensures important cleanup tasks always happen, making programs more reliable."
      ],
      "metadata": {
        "id": "ajR8IJ8vRB1m"
      }
    },
    {
      "cell_type": "markdown",
      "source": [
        "###Q4: What is logging in Python?\n",
        "Logging is a way to record events and messages during program execution. It helps track what happens in a program, especially errors and important events. Unlike print statements, logging can write to files, set different message levels, and be configured without changing code. It is essential for debugging and monitoring applications."
      ],
      "metadata": {
        "id": "e-fUNVOYRQAL"
      }
    },
    {
      "cell_type": "markdown",
      "source": [
        "###Q5: What is the significance of the `__del__` method in Python?\n",
        "\n",
        "\n",
        "The `__del__` method is a destructor that runs when an object is about to be destroyed. It can perform cleanup operations before the object is removed from memory. However, its execution timing is unpredictable because of garbage collection. It is better to use context managers (with statement) for resource management."
      ],
      "metadata": {
        "id": "5_hlhg8CRYrB"
      }
    },
    {
      "cell_type": "markdown",
      "source": [
        "###Q6: What is the difference between import and from ... import in Python?\n",
        "Using 'import module' brings in the entire module. You must use the module name to access its contents (like module.function()). Using 'from module import item' brings specific items directly. You can use them without the module name. The first method avoids naming conflicts but requires more typing. The second is more convenient but can cause name collisions."
      ],
      "metadata": {
        "id": "vCmKkUOnTBez"
      }
    },
    {
      "cell_type": "markdown",
      "source": [
        "###7: How can you handle multiple exceptions in Python?\n",
        "Multiple exceptions can be handled using separate except blocks for each exception type. You can also group exceptions in a tuple like except (ValueError, TypeError). Another way is using a parent exception class to catch related exceptions. Each method allows different levels of specificity in error handling."
      ],
      "metadata": {
        "id": "XyqeJqnnTbPF"
      }
    },
    {
      "cell_type": "markdown",
      "source": [
        "###Q8: What is the purpose of the with statement when handling files in Python?\n",
        "The with statement automatically manages file opening and closing. It ensures files are properly closed even if errors occur. This prevents resource leaks and file corruption. The with statement makes code cleaner and safer than manually opening and closing files."
      ],
      "metadata": {
        "id": "xDyN_1XeT9YC"
      }
    },
    {
      "cell_type": "markdown",
      "source": [
        "###Q9: What is the difference between multithreading and multiprocessing?\n",
        "Multithreading uses multiple threads in one process sharing the same memory. It is good for I/O operations but limited by the Global Interpreter Lock for CPU tasks. Multiprocessing uses separate processes with independent memory. It provides true parallel execution for CPU-intensive tasks but has more overhead."
      ],
      "metadata": {
        "id": "KwqneDOwUM-7"
      }
    },
    {
      "cell_type": "markdown",
      "source": [
        "###Q10: What are the advantages of using logging in a program?\n",
        "Logging provides permanent records of program events. It offers different severity levels like DEBUG, INFO, WARNING, ERROR, and CRITICAL. Logs can be saved to files for later analysis. Logging helps in debugging production issues. It can be configured without changing code. It is more professional than using print statements."
      ],
      "metadata": {
        "id": "DUcJykJlVNWy"
      }
    },
    {
      "cell_type": "markdown",
      "source": [
        "###Q11: What is memory management in Python?\n",
        "Memory management in Python is the automatic allocation and deallocation of memory for objects. Python uses reference counting and garbage collection to manage memory. When objects are created, memory is allocated automatically. When objects are no longer needed, the garbage collector frees the memory. This automatic system prevents memory leaks."
      ],
      "metadata": {
        "id": "tWC_Cy1SWQ3E"
      }
    },
    {
      "cell_type": "markdown",
      "source": [
        "###Q12: What are the basic steps involved in exception handling in Python?\n",
        "Exception handling involves four main steps. First, the try block contains code that might cause errors. Second, the except block handles specific exceptions. Third, the optional else block runs if no exception occurs. Fourth, the optional finally block always executes for cleanup. These steps work together to handle errors gracefully."
      ],
      "metadata": {
        "id": "LFYRocsUW6XX"
      }
    },
    {
      "cell_type": "markdown",
      "source": [
        "###Q13: Why is memory management important in Python?\n",
        "Memory management prevents programs from using too much memory and crashing. It ensures efficient use of system resources. Good memory management prevents memory leaks in long-running programs. It helps handle large datasets without running out of memory. Understanding memory management helps write better, more efficient programs."
      ],
      "metadata": {
        "id": "6XZqPq5AXbex"
      }
    },
    {
      "cell_type": "markdown",
      "source": [
        "###Q14: What is the role of try and except in exception handling?\n",
        "The try block contains code that might raise an exception. It marks the code that needs error protection. The except block specifies what to do when specific exceptions occur. Together, they form the basic exception handling structure. This allows programs to handle errors gracefully instead of crashing."
      ],
      "metadata": {
        "id": "51ojvcMyXyh5"
      }
    },
    {
      "cell_type": "markdown",
      "source": [
        "###Q15: How does Python's garbage collection system work?\n",
        "Python uses reference counting as the primary garbage collection method. Each object keeps track of how many references point to it. When the reference count reaches zero, the object is deleted. Python also has a cycle detector to handle circular references. The garbage collector runs automatically to free unused memory."
      ],
      "metadata": {
        "id": "7W1qQeqVYN6R"
      }
    },
    {
      "cell_type": "markdown",
      "source": [
        "###Q16: What is the purpose of the else block in exception handling?\n",
        "The else block executes only when no exception occurs in the try block. It contains code that should run after successful execution of the try block. This separates normal code flow from error handling. The else block makes the code structure clearer and more organized."
      ],
      "metadata": {
        "id": "tj7o6_q_Yksw"
      }
    },
    {
      "cell_type": "markdown",
      "source": [
        "###Q17: What are the common logging levels in Python?\n",
        "Python has five standard logging levels. DEBUG is for detailed diagnostic information. INFO is for general informational messages. WARNING indicates something unexpected happened. ERROR shows a serious problem occurred. CRITICAL indicates a very serious error. Each level helps filter messages by importance."
      ],
      "metadata": {
        "id": "JzoOzlMKbF5N"
      }
    },
    {
      "cell_type": "markdown",
      "source": [
        "###Q18: What is the difference between os.fork() and multiprocessing in Python?\n",
        "os.fork() is a low-level Unix system call that creates a copy of the current process. It only works on Unix-like systems. The multiprocessing module is a high-level, cross-platform solution. It works on all operating systems and provides better tools for process management. Multiprocessing is more portable and easier to use."
      ],
      "metadata": {
        "id": "CiqSZ82DcpEC"
      }
    },
    {
      "cell_type": "markdown",
      "source": [
        "###Q19: What is the importance of closing a file in Python?\n",
        "Closing files ensures all data is written to disk properly. It frees up system resources since file handles are limited. Open files can prevent other programs from accessing them. Not closing files can lead to data loss or corruption. Proper file closing is a fundamental programming practice"
      ],
      "metadata": {
        "id": "lQFUDTtTcrHH"
      }
    },
    {
      "cell_type": "markdown",
      "source": [
        "###Q20: What is the difference between file.read() and file.readline() in Python?\n",
        "file.read() reads the entire file content at once into a string. It loads everything into memory, which can be problematic for large files. file.readline() reads one line at a time. It is memory efficient for large files. Choose read() for small files and readline() for processing large files line by line."
      ],
      "metadata": {
        "id": "uJFi9cgydTkp"
      }
    },
    {
      "cell_type": "markdown",
      "source": [
        "###Q21: What is the logging module in Python used for?\n",
        "The logging module provides a standard way to record program events. It is used for debugging, monitoring, and tracking application behavior. It can write logs to files, console, or network. The module supports different log levels and formats. It replaces print statements with a professional logging system."
      ],
      "metadata": {
        "id": "GzqZ9R4KdgWQ"
      }
    },
    {
      "cell_type": "markdown",
      "source": [
        "###Q22: What is the os module in Python used for in file handling?\n",
        "The os module provides functions for interacting with the operating system. It can create and delete directories, check if files exist, and get file information. It handles file paths in a platform-independent way. The module also manages file permissions and directory listings. It is essential for file system operations."
      ],
      "metadata": {
        "id": "rR292X-7dm_5"
      }
    },
    {
      "cell_type": "markdown",
      "source": [
        "###Q23: What are the challenges associated with memory management in Python?\n",
        "Memory management challenges include handling circular references that prevent garbage collection. Large objects may stay in memory longer than needed. Memory fragmentation can occur in long-running programs. Understanding when garbage collection runs can be difficult. Managing memory in multi-threaded applications requires extra care."
      ],
      "metadata": {
        "id": "hppv3gnbd0Jk"
      }
    },
    {
      "cell_type": "markdown",
      "source": [
        "#Q24: How do you raise an exception manually in Python?\n",
        "Use the raise statement followed by the exception type and message. For example: raise ValueError(\"Invalid input\"). This is useful for enforcing conditions in your code. Manual exceptions help validate input and maintain program integrity. They make error handling consistent throughout the application."
      ],
      "metadata": {
        "id": "Y9o_Wwqed6xO"
      }
    },
    {
      "cell_type": "markdown",
      "source": [
        "###Q25: Why is it important to use multithreading in certain applications?\n",
        "Multithreading keeps applications responsive by preventing blocking operations. It allows handling multiple tasks simultaneously, like serving multiple users. It improves performance for I/O-bound operations. Background tasks can run without freezing the user interface. Multithreading makes better use of system resources and improves user experience."
      ],
      "metadata": {
        "id": "JEcVPZqceCuD"
      }
    },
    {
      "cell_type": "markdown",
      "source": [
        "#**Practical Question Answer**"
      ],
      "metadata": {
        "id": "MGhJXh-zeNm8"
      }
    },
    {
      "cell_type": "markdown",
      "source": [
        "\n",
        "####Q1: How can you open a file for writing in Python and write a string to it?\n"
      ],
      "metadata": {
        "id": "9-_OcPY7eXSZ"
      }
    },
    {
      "cell_type": "code",
      "source": [
        "# Method 1: Using traditional open and close\n",
        "file = open('Shaurya_data.txt', 'w')\n",
        "file.write(\"Hello, I am Shaurya studying at Chandigarh University\")\n",
        "file.close()\n",
        "\n",
        "# Method 2: Using with statement\n",
        "with open('student_info.txt', 'w') as file:\n",
        "    file.write(\"I am pursuing Computer Science Engineering\")\n",
        "# Reading the files back\n",
        "with open('Shaurya_data.txt', 'r') as f:\n",
        "    print(\"Shaurya_data.txt:\", f.read())\n",
        "\n",
        "with open('student_info.txt', 'r') as f:\n",
        "    print(\"student_info.txt:\", f.read())\n"
      ],
      "metadata": {
        "id": "FBugZt9Afr-0",
        "outputId": "454d41fc-b4d8-4184-aa00-56af0b269640",
        "colab": {
          "base_uri": "https://localhost:8080/"
        }
      },
      "execution_count": 10,
      "outputs": [
        {
          "output_type": "stream",
          "name": "stdout",
          "text": [
            "Shaurya_data.txt: Hello, I am Shaurya studying at Chandigarh University\n",
            "student_info.txt: I am pursuing Computer Science Engineering\n"
          ]
        }
      ]
    },
    {
      "cell_type": "markdown",
      "source": [
        "####Q2: Write a Python program to read the contents of a file and print each line"
      ],
      "metadata": {
        "id": "nJQ87BJMf-If"
      }
    },
    {
      "cell_type": "code",
      "source": [
        "def read_file_lines(filename):\n",
        "    try:\n",
        "        with open(filename, 'r') as file:\n",
        "            for line in file:\n",
        "                print(line.strip())\n",
        "    except FileNotFoundError:\n",
        "        print(f\"File {filename} not found\")\n",
        "\n",
        "read_file_lines('student_records.txt')"
      ],
      "metadata": {
        "colab": {
          "base_uri": "https://localhost:8080/"
        },
        "id": "E-nVkNPDf7KN",
        "outputId": "5937e84e-f80d-4406-b603-435c54d80481"
      },
      "execution_count": null,
      "outputs": [
        {
          "output_type": "stream",
          "name": "stdout",
          "text": [
            "File student_records.txt not found\n"
          ]
        }
      ]
    },
    {
      "cell_type": "markdown",
      "source": [
        "####Q3: How would you handle a case where the file doesn't exist while trying to open it for reading?"
      ],
      "metadata": {
        "id": "L-utoEeogfUe"
      }
    },
    {
      "cell_type": "code",
      "source": [
        "def safe_file_reading(filename):\n",
        "    try:\n",
        "        with open(filename, 'r') as file:\n",
        "            content = file.read()\n",
        "            print(content)\n",
        "    except FileNotFoundError:\n",
        "        print(f\"Error: The file '{filename}' does not exist\")\n",
        "        print(\"Please check the file name and path\")\n",
        "    except Exception as e:\n",
        "        print(f\"An unexpected error occurred: {e}\")\n",
        "\n",
        "\n",
        "safe_file_reading('prashant_assignments.txt')"
      ],
      "metadata": {
        "colab": {
          "base_uri": "https://localhost:8080/"
        },
        "id": "JDVkDZtwgjGK",
        "outputId": "b9b3ba08-3914-4207-b553-6633965e63e6"
      },
      "execution_count": null,
      "outputs": [
        {
          "output_type": "stream",
          "name": "stdout",
          "text": [
            "Error: The file 'prashant_assignments.txt' does not exist\n",
            "Please check the file name and path\n"
          ]
        }
      ]
    },
    {
      "cell_type": "markdown",
      "source": [
        "####Q4: Write a Python script that reads from one file and writes its content to another file"
      ],
      "metadata": {
        "id": "CZEpy9oigfQ5"
      }
    },
    {
      "cell_type": "code",
      "source": [
        "# file_copy_full.py\n",
        "\n",
        "# Step 1: First create the input.txt file and write something into it\n",
        "with open('input.txt', 'w') as f:\n",
        "    f.write(\"This is a sample file.\\nWe are copying file content using Python.\")\n",
        "\n",
        "# Step 2: Now read the content of input.txt and write it into output.txt\n",
        "try:\n",
        "    with open('input.txt', 'r') as source:\n",
        "        data = source.read()\n",
        "\n",
        "    with open('output.txt', 'w') as target:\n",
        "        target.write(data)\n",
        "\n",
        "    print(\"File has been copied: from input.txt to output.txt.\")\n",
        "except Exception as e:\n",
        "    print(\"Something went wrong:\", e)\n"
      ],
      "metadata": {
        "colab": {
          "base_uri": "https://localhost:8080/"
        },
        "id": "RlMF0dIfgwzC",
        "outputId": "f8ca5de9-10c3-4453-bcaf-17bf895d53e9"
      },
      "execution_count": null,
      "outputs": [
        {
          "output_type": "stream",
          "name": "stdout",
          "text": [
            "File has been copied: from input.txt to output.txt.\n"
          ]
        }
      ]
    },
    {
      "cell_type": "markdown",
      "source": [
        "####Q5: How would you catch and handle division by zero error in Python?"
      ],
      "metadata": {
        "id": "RMReB5-3gfOM"
      }
    },
    {
      "cell_type": "code",
      "source": [
        "def safe_division(numerator, denominator):\n",
        "    try:\n",
        "        result = numerator / denominator\n",
        "        return result\n",
        "    except ZeroDivisionError:\n",
        "        print(\"Error: Cannot divide by zero!\")\n",
        "        return None\n",
        "    except Exception as e:\n",
        "        print(f\"Unexpected error: {e}\")\n",
        "        return None\n",
        "\n",
        "\n",
        "print(safe_division(10, 2))\n",
        "print(safe_division(10, 0))"
      ],
      "metadata": {
        "colab": {
          "base_uri": "https://localhost:8080/"
        },
        "id": "Gl3zJcp1h8Nj",
        "outputId": "06358c20-43e1-4284-f79f-bf95678ad11b"
      },
      "execution_count": null,
      "outputs": [
        {
          "output_type": "stream",
          "name": "stdout",
          "text": [
            "5.0\n",
            "Error: Cannot divide by zero!\n",
            "None\n"
          ]
        }
      ]
    },
    {
      "cell_type": "markdown",
      "source": [
        "####Q6: Write a Python program that logs an error message to a log file when a division by zero exception occurs"
      ],
      "metadata": {
        "id": "mUcnqS97hqOm"
      }
    },
    {
      "cell_type": "code",
      "source": [
        "import logging\n",
        "\n",
        "# Configure logging\n",
        "logging.basicConfig(\n",
        "    filename='prashant_error_log.txt',\n",
        "    level=logging.ERROR,\n",
        "    force = True,\n",
        "    format='%(asctime)s - %(levelname)s - %(message)s'\n",
        ")\n",
        "\n",
        "def divide_with_logging(a, b):\n",
        "    try:\n",
        "        result = a / b\n",
        "        return result\n",
        "    except ZeroDivisionError:\n",
        "        error_msg = f\"Division by zero attempted: {a} / {b}\"\n",
        "        logging.error(error_msg)\n",
        "        print(\"Error logged to file\")\n",
        "        return None\n",
        "\n",
        "divide_with_logging(100, 0)\n",
        "divide_with_logging(50, 5)"
      ],
      "metadata": {
        "colab": {
          "base_uri": "https://localhost:8080/"
        },
        "id": "DneGh2VCiEz2",
        "outputId": "774b8a77-0b6a-4e7c-c6de-8841d188ccb8"
      },
      "execution_count": null,
      "outputs": [
        {
          "output_type": "stream",
          "name": "stdout",
          "text": [
            "Error logged to file\n"
          ]
        },
        {
          "output_type": "execute_result",
          "data": {
            "text/plain": [
              "10.0"
            ]
          },
          "metadata": {},
          "execution_count": 10
        }
      ]
    },
    {
      "cell_type": "markdown",
      "source": [
        "####Q7: How do you log information at different levels (INFO, ERROR, WARNING) in Python using the logging module?"
      ],
      "metadata": {
        "id": "pn-EkGxKgfL1"
      }
    },
    {
      "cell_type": "code",
      "source": [
        "import logging\n",
        "\n",
        "# Configure logging with all levels\n",
        "logging.basicConfig(\n",
        "    filename='aman_application.log',\n",
        "    level=logging.DEBUG,\n",
        "    force = True,\n",
        "    format='%(asctime)s - %(name)s - %(levelname)s - %(message)s'\n",
        ")\n",
        "\n",
        "# Create logger\n",
        "logger = logging.getLogger('StudentApp')\n",
        "\n",
        "# Log at different levels\n",
        "logger.debug('Debug: Prashant is testing the application')\n",
        "logger.info('Info: Student logged in successfully')\n",
        "logger.warning('Warning: Low disk space detected')\n",
        "logger.error('Error: Failed to connect to database')\n",
        "logger.critical('Critical: System shutdown required')\n",
        "\n",
        "print(\"Logs written to aman_application.log\")"
      ],
      "metadata": {
        "colab": {
          "base_uri": "https://localhost:8080/"
        },
        "id": "183f-5CniTKc",
        "outputId": "03565cfb-8b95-4a6d-f28d-e8ea8dde1fde"
      },
      "execution_count": null,
      "outputs": [
        {
          "output_type": "stream",
          "name": "stdout",
          "text": [
            "Logs written to aman_application.log\n"
          ]
        }
      ]
    },
    {
      "cell_type": "markdown",
      "source": [
        "####Q8: Write a program to handle a file opening error using exception handling"
      ],
      "metadata": {
        "id": "XGyPp1qegfJX"
      }
    },
    {
      "cell_type": "code",
      "source": [
        "def open_file_safely(filename, mode='r'):\n",
        "    try:\n",
        "        with open(filename, mode) as file:\n",
        "            if mode == 'r':\n",
        "                content = file.read()\n",
        "                print(f\"File content:\\n{content}\")\n",
        "            else:\n",
        "                file.write(\"Data from Prashant's assignment\")\n",
        "                print(\"File written successfully\")\n",
        "\n",
        "    except FileNotFoundError:\n",
        "        print(f\"Error: File '{filename}' not found\")\n",
        "    except PermissionError:\n",
        "        print(f\"Error: No permission to access '{filename}'\")\n",
        "    except IOError as e:\n",
        "        print(f\"I/O Error: {e}\")\n",
        "    except Exception as e:\n",
        "        print(f\"Unexpected error: {e}\")\n",
        "\n",
        "open_file_safely('akash_project.txt', 'r')"
      ],
      "metadata": {
        "colab": {
          "base_uri": "https://localhost:8080/"
        },
        "id": "JMRJOwXui-4q",
        "outputId": "e2e281b7-dc22-48d7-e469-df985b869bae"
      },
      "execution_count": null,
      "outputs": [
        {
          "output_type": "stream",
          "name": "stdout",
          "text": [
            "Error: File 'akash_project.txt' not found\n"
          ]
        }
      ]
    },
    {
      "cell_type": "markdown",
      "source": [
        "###Q9: How can you read a file line by line and store its content in a list in Python?"
      ],
      "metadata": {
        "id": "M9nAioYDgfHH"
      }
    },
    {
      "cell_type": "code",
      "source": [
        "# Step 1: Create a students.txt file with some names\n",
        "with open(\"students.txt\", \"w\") as file:\n",
        "    file.write(\"Rahul\\n\")\n",
        "    file.write(\"Priya\\n\")\n",
        "    file.write(\"Aman\\n\")\n",
        "    file.write(\"Sneha\\n\")\n",
        "\n",
        "# Step 2: Read the file using readlines()\n",
        "with open(\"students.txt\", \"r\") as file:\n",
        "    student_list = file.readlines()\n",
        "\n",
        "# Step 3: Print the list of students\n",
        "print(\"List of students (with \\\\n):\")\n",
        "print(student_list)\n",
        "\n",
        "# Step 4: Remove \\n using strip()\n",
        "cleaned_list = [name.strip() for name in student_list]\n",
        "\n",
        "print(\"\\nCleaned list of students:\")\n",
        "print(cleaned_list)\n"
      ],
      "metadata": {
        "colab": {
          "base_uri": "https://localhost:8080/"
        },
        "id": "Zf7pTdfujLRP",
        "outputId": "d05d44d5-f173-420c-97b1-f23b605ece45"
      },
      "execution_count": null,
      "outputs": [
        {
          "output_type": "stream",
          "name": "stdout",
          "text": [
            "List of students (with \\n):\n",
            "['Rahul\\n', 'Priya\\n', 'Aman\\n', 'Sneha\\n']\n",
            "\n",
            "Cleaned list of students:\n",
            "['Rahul', 'Priya', 'Aman', 'Sneha']\n"
          ]
        }
      ]
    },
    {
      "cell_type": "markdown",
      "source": [
        "####Q10: How can you append data to an existing file in Python?"
      ],
      "metadata": {
        "id": "T6PFlBa-gfEh"
      }
    },
    {
      "cell_type": "code",
      "source": [
        "def append_to_file(filename, data):\n",
        "    try:\n",
        "        with open(filename, 'a') as file:\n",
        "            file.write(data + '\\n')\n",
        "        print(f\"Data appended to {filename} successfully\")\n",
        "    except Exception as e:\n",
        "        print(f\"Error appending to file: {e}\")\n",
        "\n",
        "append_to_file('student_log.txt', 'Prashant Kumar - CSE - Chandigarh University')\n",
        "append_to_file('student_log.txt', 'Currently learning Data Science with Gen AI from PWSkills')"
      ],
      "metadata": {
        "colab": {
          "base_uri": "https://localhost:8080/"
        },
        "id": "iQhVWD_2kkZI",
        "outputId": "8a14b1fb-2d80-4e23-d26b-5b19bf2ffd44"
      },
      "execution_count": null,
      "outputs": [
        {
          "output_type": "stream",
          "name": "stdout",
          "text": [
            "Data appended to student_log.txt successfully\n",
            "Data appended to student_log.txt successfully\n"
          ]
        }
      ]
    },
    {
      "cell_type": "markdown",
      "source": [
        "####Q11: Write a Python program that uses a try-except block to handle an error when attempting to access a dictionary key that doesn't exist"
      ],
      "metadata": {
        "id": "X7oFWyA1gfB8"
      }
    },
    {
      "cell_type": "code",
      "source": [
        "def safe_dict_access(student_dict, key):\n",
        "    try:\n",
        "        value = student_dict[key]\n",
        "        print(f\"{key}: {value}\")\n",
        "        return value\n",
        "    except KeyError:\n",
        "        print(f\"Error: Key '{key}' not found in dictionary\")\n",
        "        return None\n",
        "\n",
        "# Example usage\n",
        "students = {\n",
        "    'Prashant': 'Computer Science Engineering',\n",
        "    'Nishant': 'Mechanical Engineering',\n",
        "    'Aman': 'Electronics Engineering'\n",
        "}\n",
        "\n",
        "safe_dict_access(students, 'Prashant')  # Works\n",
        "safe_dict_access(students, 'Akash')     # Handles errors"
      ],
      "metadata": {
        "colab": {
          "base_uri": "https://localhost:8080/"
        },
        "id": "-SVz5gyqk2Sa",
        "outputId": "9721831b-8973-453d-a267-aad916a2f1be"
      },
      "execution_count": null,
      "outputs": [
        {
          "output_type": "stream",
          "name": "stdout",
          "text": [
            "Prashant: Computer Science Engineering\n",
            "Error: Key 'Akash' not found in dictionary\n"
          ]
        }
      ]
    },
    {
      "cell_type": "markdown",
      "source": [
        "####Q12: Write a program that demonstrates using multiple except blocks to handle different types of exceptions\n"
      ],
      "metadata": {
        "id": "aL9o7R7Dge_g"
      }
    },
    {
      "cell_type": "code",
      "source": [
        "def create_sample_file():\n",
        "    with open('numbers.txt', 'w') as f:\n",
        "        f.write(\"10\\n0\\n5\\n20\\n15\\n25\\n\")\n",
        "\n",
        "def multi_exception_demo(filename, index):\n",
        "    try:\n",
        "        with open(filename, 'r') as file:\n",
        "            lines = file.readlines()\n",
        "\n",
        "        selected_line = lines[index]\n",
        "        number = int(selected_line.strip())\n",
        "        result = 100 / number\n",
        "\n",
        "        print(f\"Result: {result}\")\n",
        "        return result\n",
        "\n",
        "    except FileNotFoundError:\n",
        "        print(\"Error: File not found.\")\n",
        "    except IndexError:\n",
        "        print(f\"Error: Line {index} doesn't exist.\")\n",
        "    except ValueError:\n",
        "        print(\"Error: Cannot convert the line to an integer.\")\n",
        "    except ZeroDivisionError:\n",
        "        print(\"Error: Division by zero.\")\n",
        "    except Exception as e:\n",
        "        print(f\"Unexpected error: {e}\")\n",
        "\n",
        "\n",
        "# Example: Access line number 5 (6th line, zero-based index)\n",
        "multi_exception_demo('numbers.txt', 1)\n"
      ],
      "metadata": {
        "colab": {
          "base_uri": "https://localhost:8080/"
        },
        "id": "LZrqHS7TlGsJ",
        "outputId": "358b534b-eaec-4bdc-cc56-a2d1e47e714b"
      },
      "execution_count": null,
      "outputs": [
        {
          "output_type": "stream",
          "name": "stdout",
          "text": [
            "Error: Division by zero.\n"
          ]
        }
      ]
    },
    {
      "cell_type": "markdown",
      "source": [
        "####Q13: How would you check if a file exists before attempting to read it in Python?"
      ],
      "metadata": {
        "id": "wJvpKZBHge9H"
      }
    },
    {
      "cell_type": "code",
      "source": [
        "import os\n",
        "from pathlib import Path\n",
        "\n",
        "def check_and_read_file(filename):\n",
        "    # Method 1: Using os.path\n",
        "    if os.path.exists(filename):\n",
        "        with open(filename, 'r') as file:\n",
        "            content = file.read()\n",
        "            print(f\"File content: {content}\")\n",
        "    else:\n",
        "        print(f\"File '{filename}' does not exist\")\n",
        "\n",
        "    # Method 2: Using pathlib\n",
        "    file_path = Path(filename)\n",
        "    if file_path.is_file():\n",
        "        print(\"File exists!\")\n",
        "\n",
        "\n",
        "check_and_read_file('prashant_resume.txt')"
      ],
      "metadata": {
        "colab": {
          "base_uri": "https://localhost:8080/"
        },
        "id": "SdCwptyImadZ",
        "outputId": "cf704663-5aa9-4deb-dc44-eafda5f8ecf0"
      },
      "execution_count": null,
      "outputs": [
        {
          "output_type": "stream",
          "name": "stdout",
          "text": [
            "File 'prashant_resume.txt' does not exist\n"
          ]
        }
      ]
    },
    {
      "cell_type": "markdown",
      "source": [
        "####Q14: Write a program that uses the logging module to log both informational and error messages"
      ],
      "metadata": {
        "id": "8kGOuwvEge63"
      }
    },
    {
      "cell_type": "code",
      "source": [
        "import logging\n",
        "\n",
        "# Configure logging\n",
        "logging.basicConfig(\n",
        "    filename='application_log.txt',\n",
        "    level=logging.INFO,\n",
        "    force = True,\n",
        "    format='%(asctime)s - %(levelname)s - %(message)s',\n",
        "    datefmt='%Y-%m-%d %H:%M:%S'\n",
        ")\n",
        "\n",
        "def process_student_data(student_name, marks):\n",
        "    try:\n",
        "        logging.info(f\"Processing data for student: {student_name}\")\n",
        "\n",
        "        if marks < 0 or marks > 100:\n",
        "            raise ValueError(\"Invalid marks\")\n",
        "\n",
        "        if marks >= 40:\n",
        "            logging.info(f\"{student_name} passed with {marks} marks\")\n",
        "            return \"Pass\"\n",
        "        else:\n",
        "            logging.warning(f\"{student_name} failed with {marks} marks\")\n",
        "            return \"Fail\"\n",
        "\n",
        "    except ValueError as e:\n",
        "        logging.error(f\"Error processing {student_name}: {e}\")\n",
        "        return None\n",
        "    except Exception as e:\n",
        "        logging.critical(f\"Critical error: {e}\")\n",
        "        return None\n",
        "\n",
        "process_student_data(\"Prashant Kumar\", 85)\n",
        "process_student_data(\"Nishant\", 35)\n",
        "process_student_data(\"Aman\", 150)  # Error case"
      ],
      "metadata": {
        "id": "7tFkIooFmruQ"
      },
      "execution_count": null,
      "outputs": []
    },
    {
      "cell_type": "markdown",
      "source": [
        "####Q15: Write a Python program that prints the content of a file and handles the case when the file is empty"
      ],
      "metadata": {
        "id": "u67xGgCHge4g"
      }
    },
    {
      "cell_type": "code",
      "source": [
        "def read_file_with_empty_check(filename):\n",
        "    try:\n",
        "        with open(filename, 'r') as file:\n",
        "            content = file.read()\n",
        "\n",
        "            if not content:\n",
        "                print(f\"File '{filename}' is empty\")\n",
        "            else:\n",
        "                print(f\"File content:\\n{content}\")\n",
        "\n",
        "    except FileNotFoundError:\n",
        "        print(f\"File '{filename}' not found\")\n",
        "    except Exception as e:\n",
        "        print(f\"Error reading file: {e}\")\n",
        "\n",
        "\n",
        "read_file_with_empty_check('students.txt')"
      ],
      "metadata": {
        "colab": {
          "base_uri": "https://localhost:8080/"
        },
        "id": "6rtqRVJ5nF7P",
        "outputId": "750a5948-e4e0-4a47-e8cc-d7e6ac10f495"
      },
      "execution_count": null,
      "outputs": [
        {
          "output_type": "stream",
          "name": "stdout",
          "text": [
            "File content:\n",
            "Rahul\n",
            "Priya\n",
            "Aman\n",
            "Sneha\n",
            "\n"
          ]
        }
      ]
    },
    {
      "cell_type": "markdown",
      "source": [
        "####Q16: Demonstrate how to use memory profiling to check the memory usage of a small program"
      ],
      "metadata": {
        "id": "tdY_ILbknErq"
      }
    },
    {
      "cell_type": "code",
      "source": [
        "!pip install memory_profiler\n",
        "\n",
        "from memory_profiler import profile\n",
        "\n",
        "@profile\n",
        "def memory_demo():\n",
        "    # list with student data\n",
        "    students = []\n",
        "    for i in range(1000):\n",
        "        student = {\n",
        "            'name': f'Student_{i}',\n",
        "            'course': 'Computer Science',\n",
        "            'university': 'Chandigarh University'\n",
        "        }\n",
        "        students.append(student)\n",
        "\n",
        "    # Process data\n",
        "    cse_students = [s for s in students if s['course'] == 'Computer Science']\n",
        "\n",
        "    return len(cse_students)\n",
        "\n",
        "# Alternative using tracemalloc (built-in)\n",
        "import tracemalloc\n",
        "\n",
        "def track_memory():\n",
        "    tracemalloc.start()\n",
        "\n",
        "    # Your code here\n",
        "    data = ['Prashant Kumar'] * 10000\n",
        "\n",
        "    current, peak = tracemalloc.get_traced_memory()\n",
        "    print(f\"Current memory usage: {current / 10**6:.2f} MB\")\n",
        "    print(f\"Peak memory usage: {peak / 10**6:.2f} MB\")\n",
        "\n",
        "    tracemalloc.stop()\n",
        "\n",
        "# Run the memory tracking\n",
        "track_memory()"
      ],
      "metadata": {
        "colab": {
          "base_uri": "https://localhost:8080/"
        },
        "id": "7BhyJzSMn4u2",
        "outputId": "49217407-b09f-4d54-e2fb-c21c865f52df"
      },
      "execution_count": null,
      "outputs": [
        {
          "output_type": "stream",
          "name": "stdout",
          "text": [
            "Requirement already satisfied: memory_profiler in /usr/local/lib/python3.11/dist-packages (0.61.0)\n",
            "Requirement already satisfied: psutil in /usr/local/lib/python3.11/dist-packages (from memory_profiler) (5.9.5)\n",
            "Current memory usage: 0.08 MB\n",
            "Peak memory usage: 0.08 MB\n"
          ]
        }
      ]
    },
    {
      "cell_type": "markdown",
      "source": [
        "####Q17: Write a Python program to create and write a list of numbers to a file, one number per line"
      ],
      "metadata": {
        "id": "YBc0j7K4ge2Q"
      }
    },
    {
      "cell_type": "code",
      "source": [
        "def write_numbers_to_file(filename, numbers):\n",
        "    try:\n",
        "        with open(filename, 'w') as file:\n",
        "            for number in numbers:\n",
        "                file.write(f\"{number}\\n\")\n",
        "\n",
        "        print(f\"Successfully wrote {len(numbers)} numbers to {filename}\")\n",
        "\n",
        "    except Exception as e:\n",
        "        print(f\"Error writing to file: {e}\")\n",
        "\n",
        "# Example usage\n",
        "student_scores = [85, 92, 78, 95, 88, 91, 76, 89, 93, 87]\n",
        "write_numbers_to_file('prashant_scores.txt', student_scores)\n",
        "\n",
        "# Another example with range\n",
        "numbers_list = list(range(1, 101))  # Numbers 1 to 100\n",
        "write_numbers_to_file('number_sequence.txt', numbers_list)"
      ],
      "metadata": {
        "colab": {
          "base_uri": "https://localhost:8080/"
        },
        "id": "5Gb0FwGDpS0H",
        "outputId": "139178aa-949d-402a-fc8c-0eeae146f3d5"
      },
      "execution_count": null,
      "outputs": [
        {
          "output_type": "stream",
          "name": "stdout",
          "text": [
            "Successfully wrote 10 numbers to prashant_scores.txt\n",
            "Successfully wrote 100 numbers to number_sequence.txt\n"
          ]
        }
      ]
    },
    {
      "cell_type": "markdown",
      "source": [
        "####Q18: How would you implement a basic logging setup that logs to a file with rotation after 1MB?"
      ],
      "metadata": {
        "id": "77qyQ01Rgez6"
      }
    },
    {
      "cell_type": "code",
      "source": [
        "import logging\n",
        "from logging.handlers import RotatingFileHandler\n",
        "\n",
        "def setup_rotating_logger():\n",
        "    # Create logger\n",
        "    logger = logging.getLogger('RotatingLogger')\n",
        "    logger.setLevel(logging.DEBUG)\n",
        "\n",
        "    # Create rotating file handler (1MB = 1048576 bytes)\n",
        "    handler = RotatingFileHandler(\n",
        "        'app_rotating.log',\n",
        "        maxBytes=1048576,  # 1MB\n",
        "        backupCount=5      # Keep 5 backup files\n",
        "    )\n",
        "\n",
        "    # Create formatter\n",
        "    formatter = logging.Formatter(\n",
        "        '%(asctime)s - %(name)s - %(levelname)s - %(message)s'\n",
        "    )\n",
        "    handler.setFormatter(formatter)\n",
        "\n",
        "    # Add handler to logger\n",
        "    logger.addHandler(handler)\n",
        "\n",
        "    return logger\n",
        "\n",
        "# Usage example\n",
        "logger = setup_rotating_logger()\n",
        "\n",
        "# Test logging\n",
        "for i in range(10000):\n",
        "    logger.info(f\"Log entry {i} - Prashant Kumar working on Data Science project\")\n",
        "    logger.debug(f\"Debug info: Processing student record {i}\")"
      ],
      "metadata": {
        "id": "BTLhGwS6pcLm"
      },
      "execution_count": null,
      "outputs": []
    },
    {
      "cell_type": "markdown",
      "source": [
        "####Q19: Write a program that handles both IndexError and KeyError using a try-except block"
      ],
      "metadata": {
        "id": "dLfgvBjggexq"
      }
    },
    {
      "cell_type": "code",
      "source": [
        "def handle_multiple_errors(data_list, data_dict, index, key):\n",
        "    try:\n",
        "        # Try to access list element\n",
        "        list_value = data_list[index]\n",
        "        print(f\"List value at index {index}: {list_value}\")\n",
        "\n",
        "        # Try to access dictionary key\n",
        "        dict_value = data_dict[key]\n",
        "        print(f\"Dictionary value for key '{key}': {dict_value}\")\n",
        "\n",
        "        # Perform operation\n",
        "        result = list_value + dict_value\n",
        "        print(f\"Combined result: {result}\")\n",
        "\n",
        "    except IndexError:\n",
        "        print(f\"IndexError: Index {index} is out of range for the list\")\n",
        "    except KeyError:\n",
        "        print(f\"KeyError: Key '{key}' not found in dictionary\")\n",
        "    except TypeError:\n",
        "        print(\"TypeError: Cannot combine these values\")\n",
        "    except Exception as e:\n",
        "        print(f\"Unexpected error: {e}\")\n",
        "\n",
        "\n",
        "students_list = ['Prashant', 'Nishant', 'Aman']\n",
        "scores_dict = {'Prashant': 95, 'Nishant': 88}\n",
        "\n",
        "\n",
        "handle_multiple_errors(students_list, scores_dict, 1, 'Nishant')  # Works\n",
        "handle_multiple_errors(students_list, scores_dict, 5, 'Nishant')  # IndexError\n",
        "handle_multiple_errors(students_list, scores_dict, 1, 'Akash')    # KeyError"
      ],
      "metadata": {
        "colab": {
          "base_uri": "https://localhost:8080/"
        },
        "id": "zqSlCzdYqNpb",
        "outputId": "88e0723e-a1d1-4f12-e40d-cb5bdf1f2a8b"
      },
      "execution_count": null,
      "outputs": [
        {
          "output_type": "stream",
          "name": "stdout",
          "text": [
            "List value at index 1: Nishant\n",
            "Dictionary value for key 'Nishant': 88\n",
            "TypeError: Cannot combine these values\n",
            "IndexError: Index 5 is out of range for the list\n",
            "List value at index 1: Nishant\n",
            "KeyError: Key 'Akash' not found in dictionary\n"
          ]
        }
      ]
    },
    {
      "cell_type": "markdown",
      "source": [
        "####Q20: How would you open a file and read its contents using a context manager in Python?"
      ],
      "metadata": {
        "id": "abU3_teFgeu8"
      }
    },
    {
      "cell_type": "code",
      "source": [
        "def create_sample_file():\n",
        "    content = \"\"\"Prashant Kumar\n",
        "Age: 22\n",
        "Degree: B.Tech in Computer Science\n",
        "University: Chandigarh University\n",
        "Skills: Python, Java, Blockchain, Data Analytics\n",
        "Interests: AI, Machine Learning, Web Development\"\"\"\n",
        "\n",
        "    with open('prashant_profile.txt', 'w', encoding='utf-8') as f:\n",
        "        f.write(content)\n",
        "\n",
        "def read_with_context_manager(filename):\n",
        "    try:\n",
        "        with open(filename, 'r', encoding='utf-8') as file:\n",
        "            # Method 1: Read entire content\n",
        "            content = file.read()\n",
        "            print(\"Full content:\")\n",
        "            print(content)\n",
        "\n",
        "        # Method 2: Read line by line\n",
        "        with open(filename, 'r', encoding='utf-8') as file:\n",
        "            print(\"\\nLine by line:\")\n",
        "            for line_num, line in enumerate(file, 1):\n",
        "                print(f\"Line {line_num}: {line.strip()}\")\n",
        "\n",
        "    except FileNotFoundError:\n",
        "        print(f\"File '{filename}' not found\")\n",
        "    except Exception as e:\n",
        "        print(f\"Error: {e}\")\n",
        "\n",
        "\n",
        "create_sample_file()\n",
        "\n",
        "read_with_context_manager('prashant_profile.txt')\n"
      ],
      "metadata": {
        "colab": {
          "base_uri": "https://localhost:8080/"
        },
        "id": "ddiDVLKLqbpT",
        "outputId": "13990b10-51a5-4e50-a544-d036b591388a"
      },
      "execution_count": null,
      "outputs": [
        {
          "output_type": "stream",
          "name": "stdout",
          "text": [
            "Full content:\n",
            "Prashant Kumar\n",
            "Age: 22\n",
            "Degree: B.Tech in Computer Science\n",
            "University: Chandigarh University\n",
            "Skills: Python, Java, Blockchain, Data Analytics\n",
            "Interests: AI, Machine Learning, Web Development\n",
            "\n",
            "Line by line:\n",
            "Line 1: Prashant Kumar\n",
            "Line 2: Age: 22\n",
            "Line 3: Degree: B.Tech in Computer Science\n",
            "Line 4: University: Chandigarh University\n",
            "Line 5: Skills: Python, Java, Blockchain, Data Analytics\n",
            "Line 6: Interests: AI, Machine Learning, Web Development\n"
          ]
        }
      ]
    },
    {
      "cell_type": "markdown",
      "source": [
        "####Q21: Write a Python program that reads a file and prints the number of occurrences of a specific word"
      ],
      "metadata": {
        "id": "j3Yr9Pergesl"
      }
    },
    {
      "cell_type": "code",
      "source": [
        "def create_sample_files():\n",
        "    course_content =\"\"\"\n",
        "    Python is a popular programming language.\n",
        "    It is widely used for web development, data science,\n",
        "    artificial intelligence, and more.\n",
        "    Learning Python can open many career opportunities.\n",
        "    \"\"\"\n",
        "\n",
        "    essay_content = \"\"\"\n",
        "    Memory management challenges include handling circular references that\n",
        "    prevent garbage collection. Large objects may stay in memory\n",
        "    longer than needed. Memory fragmentation can occur in long-running\n",
        "    programs. Understanding when garbage collection runs can be difficult.\n",
        "    Managing memory in multi-threaded applications requires extra care.\n",
        "    \"\"\"\n",
        "\n",
        "    with open('course_description.txt', 'w', encoding='utf-8') as f:\n",
        "        f.write(course_content)\n",
        "\n",
        "    with open('student_essay.txt', 'w', encoding='utf-8') as f:\n",
        "        f.write(essay_content)\n",
        "\n",
        "def count_word_occurrences(filename, search_word):\n",
        "    try:\n",
        "        with open(filename, 'r', encoding='utf-8') as file:\n",
        "            content = file.read().lower()\n",
        "\n",
        "        # Count occurrences (simple substring count)\n",
        "        word_count = content.count(search_word.lower())\n",
        "\n",
        "        # Alternative method using split and exact word matching\n",
        "        words = content.split()\n",
        "        exact_count = sum(1 for word in words if word.strip('.,!?;:') == search_word.lower())\n",
        "\n",
        "        print(f\"The word '{search_word}' appears {word_count} times in the file '{filename}'\")\n",
        "        print(f\"Exact word matches: {exact_count}\")\n",
        "\n",
        "        return word_count\n",
        "\n",
        "    except FileNotFoundError:\n",
        "        print(f\"File '{filename}' not found\")\n",
        "        return 0\n",
        "    except Exception as e:\n",
        "        print(f\"Error: {e}\")\n",
        "        return 0\n",
        "\n",
        "# Create the sample files\n",
        "create_sample_files()\n",
        "\n",
        "# Example usage\n",
        "count_word_occurrences('course_description.txt', 'Python')\n",
        "count_word_occurrences('student_essay.txt', 'Prashant')\n"
      ],
      "metadata": {
        "colab": {
          "base_uri": "https://localhost:8080/"
        },
        "id": "8kYj0C-Yq9io",
        "outputId": "45d7d488-5f9b-43b7-8418-e3674e7042d8"
      },
      "execution_count": null,
      "outputs": [
        {
          "output_type": "stream",
          "name": "stdout",
          "text": [
            "The word 'Python' appears 2 times in the file 'course_description.txt'\n",
            "Exact word matches: 2\n",
            "The word 'Prashant' appears 0 times in the file 'student_essay.txt'\n",
            "Exact word matches: 0\n"
          ]
        },
        {
          "output_type": "execute_result",
          "data": {
            "text/plain": [
              "0"
            ]
          },
          "metadata": {},
          "execution_count": 44
        }
      ]
    },
    {
      "cell_type": "markdown",
      "source": [
        "####Q22: How can you check if a file is empty before attempting to read its contents?"
      ],
      "metadata": {
        "id": "gEo1V7ARgeqA"
      }
    },
    {
      "cell_type": "code",
      "source": [
        "import os\n",
        "\n",
        "def create_sample_file(filename, content=\"\"):\n",
        "    with open(filename, 'w', encoding='utf-8') as f:\n",
        "        f.write(content)\n",
        "\n",
        "def check_empty_file(filename):\n",
        "    try:\n",
        "        # Method 1: Using os.path.getsize()\n",
        "        if os.path.exists(filename):\n",
        "            if os.path.getsize(filename) == 0:\n",
        "                print(f\"File '{filename}' is empty\")\n",
        "                return True\n",
        "            else:\n",
        "                print(f\"File '{filename}' has content\")\n",
        "                return False\n",
        "        else:\n",
        "            print(f\"File '{filename}' does not exist\")\n",
        "            return None\n",
        "\n",
        "    except Exception as e:\n",
        "        print(f\"Error checking file: {e}\")\n",
        "        return None\n",
        "\n",
        "def read_non_empty_file(filename):\n",
        "    # Method 2: Check while reading\n",
        "    try:\n",
        "        with open(filename, 'r', encoding='utf-8') as file:\n",
        "            first_char = file.read(1)\n",
        "            if not first_char:\n",
        "                print(f\"File '{filename}' is empty\")\n",
        "                return None\n",
        "\n",
        "            # File has content, read the rest\n",
        "            file.seek(0)  # Go back to beginning\n",
        "            content = file.read()\n",
        "            return content\n",
        "\n",
        "    except FileNotFoundError:\n",
        "        print(f\"File '{filename}' not found\")\n",
        "        return None\n",
        "\n",
        "# Create sample files\n",
        "create_sample_file('student_data.txt', \"\")  # empty file\n",
        "create_sample_file('prashant_notes.txt', \"These are some notes by Prashant.\")\n",
        "\n",
        "# Check if files are empty or not\n",
        "check_empty_file('student_data.txt')\n",
        "check_empty_file('prashant_notes.txt')\n",
        "\n",
        "# Read content if file not empty\n",
        "content = read_non_empty_file('prashant_notes.txt')\n",
        "if content:\n",
        "    print(\"\\nContent of 'prashant_notes.txt':\")\n",
        "    print(content)\n"
      ],
      "metadata": {
        "colab": {
          "base_uri": "https://localhost:8080/"
        },
        "id": "ZwveIw71sFly",
        "outputId": "03e4bf06-4a8c-4484-a674-3c622b309245"
      },
      "execution_count": null,
      "outputs": [
        {
          "output_type": "stream",
          "name": "stdout",
          "text": [
            "File 'student_data.txt' is empty\n",
            "File 'prashant_notes.txt' has content\n",
            "\n",
            "Content of 'prashant_notes.txt':\n",
            "These are some notes by Prashant.\n"
          ]
        }
      ]
    },
    {
      "cell_type": "markdown",
      "source": [
        "####Q23: Write a Python program that writes to a log file when an error occurs during file handling"
      ],
      "metadata": {
        "id": "5pqiu6aqgenp"
      }
    },
    {
      "cell_type": "code",
      "source": [
        "import logging\n",
        "from datetime import datetime\n",
        "\n",
        "# Configure logging using basicConfig\n",
        "logging.basicConfig(\n",
        "    filename='file_errors.log',\n",
        "    level=logging.ERROR,\n",
        "    force = True,\n",
        "    format='%(asctime)s - %(levelname)s - %(message)s',\n",
        "    datefmt='%Y-%m-%d %H:%M:%S'\n",
        ")\n",
        "\n",
        "def process_student_file(filename):\n",
        "    try:\n",
        "        # Attempt to read file\n",
        "        with open(filename, 'r') as file:\n",
        "            data = file.read()\n",
        "\n",
        "        # Process data\n",
        "        lines = data.split('\\n')\n",
        "        print(f\"Successfully processed {len(lines)} lines from {filename}\")\n",
        "\n",
        "    except FileNotFoundError:\n",
        "        error_msg = f\"File not found: {filename}\"\n",
        "        logging.error(error_msg)\n",
        "        print(f\"Error occurred and logged: File not found\")\n",
        "\n",
        "    except PermissionError:\n",
        "        error_msg = f\"Permission denied: {filename}\"\n",
        "        logging.error(error_msg)\n",
        "        print(f\"Error occurred and logged: Permission denied\")\n",
        "\n",
        "    except UnicodeDecodeError:\n",
        "        error_msg = f\"Unicode decode error in file: {filename}\"\n",
        "        logging.error(error_msg)\n",
        "        print(f\"Error occurred and logged: Unicode decode error\")\n",
        "\n",
        "    except Exception as e:\n",
        "        error_msg = f\"Unexpected error with file {filename}: {str(e)}\"\n",
        "        logging.error(error_msg)\n",
        "        print(f\"Error occurred and logged: {type(e).__name__}\")\n",
        "\n",
        "# Test the function with different scenarios\n",
        "print(\"Testing file operations by Prashant Kumar (CSE student at Chandigarh University)\")\n",
        "print(\"Currently learning Data Science with Gen AI from PWSkills\\n\")\n",
        "\n",
        "# Test with different files\n",
        "process_student_file('prashant_data.txt')      # Existing file\n",
        "process_student_file('nonexistent.txt')         # File doesn't exist\n",
        "process_student_file('nishant_protected.txt')   # Permission error\n",
        "process_student_file('aman_binary.bin')         # Potential decode error\n",
        "\n",
        "print(\"\\nAll errors have been logged to 'file_errors.log'\")\n",
        "print(\"Check the log file for detailed error information\")"
      ],
      "metadata": {
        "colab": {
          "base_uri": "https://localhost:8080/"
        },
        "id": "hUpQEz7xs4S1",
        "outputId": "e2461858-397d-427f-897b-e80302cec288"
      },
      "execution_count": null,
      "outputs": [
        {
          "output_type": "stream",
          "name": "stdout",
          "text": [
            "Testing file operations by Prashant Kumar (CSE student at Chandigarh University)\n",
            "Currently learning Data Science with Gen AI from PWSkills\n",
            "\n",
            "Successfully processed 1 lines from prashant_data.txt\n",
            "Error occurred and logged: File not found\n",
            "Error occurred and logged: File not found\n",
            "Error occurred and logged: File not found\n",
            "\n",
            "All errors have been logged to 'file_errors.log'\n",
            "Check the log file for detailed error information\n"
          ]
        }
      ]
    }
  ]
}